{
 "cells": [
  {
   "cell_type": "markdown",
   "metadata": {},
   "source": [
    "----------------------------------------------------------------------------------------------------------------"
   ]
  },
  {
   "cell_type": "markdown",
   "metadata": {},
   "source": [
    "# Data Science and Machine Learning Project\n",
    "## Disciplina C318 - Engenharia da Computação e Engenharia de Software\n",
    "\n",
    "### Integrantes\n",
    "- Airton Gabriel Honorato de Carvalho - GES 113\n",
    "- Leonardo Teodoro Costa de Oliveira\n",
    "- Luca Felipe de Lima Delmondes\n",
    "- Lucas Ribeiro Garciad e Souza - GES 134"
   ]
  },
  {
   "cell_type": "markdown",
   "metadata": {},
   "source": [
    "----------------------------------------------------------------------------------------------------------------"
   ]
  },
  {
   "cell_type": "markdown",
   "metadata": {},
   "source": [
    "### Heart Disease Prediction using Machine Learning - End-to-End Machine Learning Project"
   ]
  },
  {
   "cell_type": "markdown",
   "metadata": {},
   "source": [
    "### Estrutura em Etapas do Projeto:\n",
    "- **Step 1** : Importação de bibliotecas e frameworks\n",
    "- **Step 2** : Importação e informações sobre os dados\n",
    "- **Step 3** : Importação de dados com Google Bigquery\n",
    "- **Step 4** : Exploração inicial de dados\n",
    "- **Step 5** : Métodos de amostragem\n",
    "  - Métodos de amostragem aleatória baseados em permutação\n",
    "  - Métodos de amostragem aleatória baseados em identificadores únicos\n",
    "  - Métodos de amostragem aleatória com scikit-learn\n",
    "  - Métodos de amostragem aleatória baseados em estratificação\n",
    "  - Proporções e representatividade dos métodos de amostragem aleatória\n",
    "- **Step 6** : Análise de dados - SQL Business Questions\n",
    "- **Step 7** : Análise exploratória de dados\n",
    "  - Visualizacão de dados\n",
    "  - Análise estatística dos dados - correlações\n",
    "  - Engenharia de features (combinação de atributos)\n",
    "- **Step 8** : Preparação dos dados para modelagem \n",
    "  - Princípios de design do scikit-learn\n",
    "  - Limpeza de dados (data cleaning)\n",
    "  - Detecção e análise de outliers nos dados \n",
    "  - Processamento de features categóricas com codificadores (encoding)\n",
    "  - Normalizações e padronizações (Feature Scaling)\n",
    "- **Step 9** : Pipelines e transformações customizadas \n",
    "  - Transformações customizadas (custom transformers)\n",
    "  - Pipelines de transformação (transformation pipelines)\n",
    "  - Pipeline Design (feature_utils.py)\n",
    "- **Step 10** : Machine Learning (Model Bulding)\n",
    "  - Seleção de modelos e treinamento (Model Building)\n",
    "  - Otimização de hiperparâmetros\n",
    "  - Avaliação do treinamento (cross-validation)\n",
    "- **Step 11** : Machine Learning (Model Testing)\n",
    "  - Teste de performance da pipeline \n",
    "  - Model evaluation\n",
    "  - Desempenho em dados de treinamento\n",
    "  - Feature Importance\n",
    "- **Step 12** : Salvando o Pipeline de Modelagem (Model Saving)\n",
    "  - Procedimento via pickle e joblib"
   ]
  },
  {
   "cell_type": "markdown",
   "metadata": {},
   "source": [
    "----------------------------------------------------------------------------------------------------------------"
   ]
  },
  {
   "cell_type": "markdown",
   "metadata": {},
   "source": [
    "### **Step 1** : Importação de bibliotecas e frameworks"
   ]
  },
  {
   "cell_type": "markdown",
   "metadata": {},
   "source": [
    "----------------------------------------------------------------------------------------------------------------"
   ]
  },
  {
   "cell_type": "code",
   "execution_count": null,
   "metadata": {},
   "outputs": [],
   "source": []
  },
  {
   "cell_type": "markdown",
   "metadata": {},
   "source": [
    "----------------------------------------------------------------------------------------------------------------"
   ]
  },
  {
   "cell_type": "markdown",
   "metadata": {},
   "source": [
    "### **Step 2** : Importação e informações sobre os dados\n",
    "- Informações sobre o dataset\n",
    "1. **age**: Idade do paciente (em anos)\n",
    "2. **sex**: Sexo biológico do paciente (1 = masculino, 0 = feminino)\n",
    "3. **cp**: [chest pain type] Tipo de dor no peito  \n",
    "    - 0: Angina típica  \n",
    "    - 1: Angina atípica  \n",
    "    - 2: Dor não anginosa  \n",
    "    - 3: Assintomático\n",
    "4. **trestbps**: [resting blood pressure] Pressão arterial em repouso (mm Hg)\n",
    "5. **chol**: [serum cholesterol] Colesterol sérico em mg/dl\n",
    "6. **fbs**: [fasting blood sugar] Glicemia em jejum > 120 mg/dl (1 = verdadeiro; 0 = falso)\n",
    "7. **restecg**: [resting electrocardiographic results] Resultados do eletrocardiograma em repouso  \n",
    "    - 0: Normal  \n",
    "    - 1: Anormalidade ST-T (inversão de onda T ou elevação/abaixamento do ST)  \n",
    "    - 2: Hipertrofia ventricular esquerda provável ou definitiva\n",
    "8. **thalach**: [maximum heart rate achieved] Frequência cardíaca máxima atingida\n",
    "9. **exang**: [exercise induced angina] Angina induzida por exercício (1 = sim; 0 = não)\n",
    "10. **oldpeak**: [ST depression] Depressão do segmento ST induzida por exercício em relação ao repouso\n",
    "11. **slope**: [slope of the peak exercise ST segment] Inclinação do segmento ST durante exercício  \n",
    "    - 0: Descendente  \n",
    "    - 1: Plana  \n",
    "    - 2: Ascendente\n",
    "12. **ca**: [number of major vessels] Número de vasos principais (0–3) coloridos por fluoroscopia\n",
    "13. **thal**: [thalassemia] Resultado do exame de tálio  \n",
    "    - 1: Normal  \n",
    "    - 2: Defeito fixo  \n",
    "    - 3: Defeito reversível\n",
    "14. **target**: Diagnóstico de doença cardíaca  \n",
    "    - 0: Ausência de doença  \n",
    "    - 1: Presença de doença"
   ]
  },
  {
   "cell_type": "markdown",
   "metadata": {},
   "source": [
    "----------------------------------------------------------------------------------------------------------------"
   ]
  },
  {
   "cell_type": "code",
   "execution_count": null,
   "metadata": {},
   "outputs": [],
   "source": [
    "import kagglehub\n",
    "from kagglehub import KaggleDatasetAdapter\n",
    "\n",
    "file_path = \"\"\n",
    "\n",
    "df = kagglehub.load_dataset(\n",
    "  KaggleDatasetAdapter.PANDAS,\n",
    "  \"johnsmith88/heart-disease-dataset\",\n",
    "  file_path,\n",
    ")\n",
    "\n",
    "print(\"First 5 records:\", df.head())"
   ]
  },
  {
   "cell_type": "markdown",
   "metadata": {},
   "source": [
    "----------------------------------------------------------------------------------------------------------------"
   ]
  },
  {
   "cell_type": "markdown",
   "metadata": {},
   "source": [
    "### **Step 3** : Importação de dados com Google Bigquery\n",
    " - How does Bigquery Works?\n",
    "     - https://cloud.google.com/bigquery/docs/storage_overview"
   ]
  },
  {
   "cell_type": "markdown",
   "metadata": {},
   "source": [
    "----------------------------------------------------------------------------------------------------------------"
   ]
  },
  {
   "cell_type": "markdown",
   "metadata": {},
   "source": [
    "### **Step 4** : Exploração inicial dos dados"
   ]
  },
  {
   "cell_type": "markdown",
   "metadata": {},
   "source": [
    "----------------------------------------------------------------------------------------------------------------"
   ]
  },
  {
   "cell_type": "code",
   "execution_count": null,
   "metadata": {},
   "outputs": [],
   "source": []
  },
  {
   "cell_type": "markdown",
   "metadata": {},
   "source": [
    "----------------------------------------------------------------------------------------------------------------"
   ]
  },
  {
   "cell_type": "markdown",
   "metadata": {},
   "source": [
    "### **Step 5** : Métodos de amostragem aleatória\n",
    " - Amostragem aleatória baseada em permutação\n",
    " - Amostragem aleatória baseada em identificadores únicos \n",
    " - Amostragem aleatória simples com scikit-learn \n",
    " - Amostragem aleatória baseada em estratificação \n",
    " - Proporções e representatividade dos métodos de amostragem aleatória"
   ]
  },
  {
   "cell_type": "markdown",
   "metadata": {},
   "source": [
    "----------------------------------------------------------------------------------------------------------------"
   ]
  },
  {
   "cell_type": "code",
   "execution_count": null,
   "metadata": {},
   "outputs": [],
   "source": []
  },
  {
   "cell_type": "markdown",
   "metadata": {},
   "source": [
    "----------------------------------------------------------------------------------------------------------------"
   ]
  },
  {
   "cell_type": "markdown",
   "metadata": {},
   "source": [
    "### **Step 6** : Análise de dados - SQL Business Questions"
   ]
  },
  {
   "cell_type": "markdown",
   "metadata": {},
   "source": [
    "----------------------------------------------------------------------------------------------------------------"
   ]
  },
  {
   "cell_type": "markdown",
   "metadata": {},
   "source": [
    "#### SQL-Business Questions\n",
    "\n",
    "* **1) BUSINESS QUESTION 1** – WHICH AGE GROUP HAS THE HIGHEST INCIDENCE OF HEART DISEASE?\n",
    "  > *(Agrupar por faixas etárias e verificar em qual delas a taxa de pacientes com `target = 1` é maior)*\n",
    "\n",
    "* **2) BUSINESS QUESTION 2** – AMONG PATIENTS WITH HIGH BLOOD PRESSURE (trestbps > 140), WHICH SEX HAS A HIGHER RISK OF HEART DISEASE?\n",
    "  > *(Filtrar por pressão > 140, agrupar por `sex` e comparar a proporção de `target = 1`)*\n",
    "\n",
    "* **3) BUSINESS QUESTION 3** – WHICH CHEST PAIN TYPE (cp) IS MOST FREQUENT AMONG PEOPLE WITH DIAGNOSED HEART DISEASE?\n",
    "  > *(Agrupar por `cp`, contando apenas os casos com `target = 1`)*\n",
    "\n",
    "* **4) BUSINESS QUESTION 4** – IS THERE A SIGNIFICANT DIFFERENCE IN MAX HEART RATE (thalach) BETWEEN THOSE WHO HAVE AND HAVEN’T HAD HEART DISEASE?\n",
    "  > *(Comparar médias de `thalach` entre grupos com `target = 0` e `target = 1`)*\n",
    "\n",
    "* **5) BUSINESS QUESTION 5** – WHICH COMBINATION OF SLOPE AND EXANG IS MOST ASSOCIATED WITH HEART DISEASE?\n",
    "  > *(Agrupar por `slope` e `exang`, contando ocorrências com `target = 1`)*\n",
    "\n",
    "* **6) BUSINESS QUESTION 6** – WHAT IS THE AVERAGE OLDPEAK FOR EACH LEVEL OF ANGINA INDUCED BY EXERCISE (`exang`) AND HEART DISEASE STATUS?\n",
    "  > *(Agrupar por `exang` e `target`, calcular média de `oldpeak`)*"
   ]
  },
  {
   "cell_type": "markdown",
   "metadata": {},
   "source": [
    "----------------------------------------------------------------------------------------------------------------"
   ]
  },
  {
   "cell_type": "markdown",
   "metadata": {},
   "source": [
    "### **Step 7** : Análise exploradória de dados\n",
    "  - Visualizacão de dados\n",
    "  - Análise estatística dos dados - correlações\n",
    "  - Engenharia de features (combinação de atributos)"
   ]
  },
  {
   "cell_type": "markdown",
   "metadata": {},
   "source": [
    "----------------------------------------------------------------------------------------------------------------"
   ]
  },
  {
   "cell_type": "code",
   "execution_count": null,
   "metadata": {},
   "outputs": [],
   "source": []
  },
  {
   "cell_type": "markdown",
   "metadata": {},
   "source": [
    "----------------------------------------------------------------------------------------------------------------"
   ]
  },
  {
   "cell_type": "markdown",
   "metadata": {},
   "source": [
    "### **Step 8** : Preparação dos dados para modelagem \n",
    "  - 8.1 Princípios de design do scikit-learn\n",
    "  - 8.2 Limpeza de dados (data cleaning)\n",
    "  - 8.3 Detecção e análise de outliers nos dados \n",
    "  - 8.4 Processamento de features categóricas com codificadores (encoding)\n",
    "  - 8.5 Normalizações e padronizações (feature scaling)"
   ]
  },
  {
   "cell_type": "markdown",
   "metadata": {},
   "source": [
    "----------------------------------------------------------------------------------------------------------------"
   ]
  },
  {
   "cell_type": "code",
   "execution_count": null,
   "metadata": {},
   "outputs": [],
   "source": []
  },
  {
   "cell_type": "markdown",
   "metadata": {},
   "source": [
    "----------------------------------------------------------------------------------------------------------------"
   ]
  },
  {
   "cell_type": "markdown",
   "metadata": {},
   "source": [
    "### **Step 8.2** : Limpeza de dados (data cleaning)\n",
    " - Opções de Limpeza e Estratégias de Imputação \n",
    "    - opção i)  fazendo o drop apenas dos valores faltantes\n",
    "    - opção ii) fazendo o drop da variável total_bedrooms\n",
    "    - opção iii) escolhendo a melhor estratégia de imputação (e.g., mediana)  "
   ]
  },
  {
   "cell_type": "markdown",
   "metadata": {},
   "source": [
    "----------------------------------------------------------------------------------------------------------------"
   ]
  },
  {
   "cell_type": "code",
   "execution_count": null,
   "metadata": {},
   "outputs": [],
   "source": []
  },
  {
   "cell_type": "markdown",
   "metadata": {},
   "source": [
    "----------------------------------------------------------------------------------------------------------------"
   ]
  },
  {
   "cell_type": "markdown",
   "metadata": {},
   "source": [
    "### **Step 8.3** : Detecção e análise de outliers nos dados\n",
    " - https://scikit-learn.org/stable/modules/generated/sklearn.ensemble.IsolationForest.html\n",
    " - Importante: veja que a incorporação de um detector de anomalia como parte do processo de preparação de dados é um ponto de relevância, especialmente se refletirmos sobre os passos a serem implementados nas pipelines em produção"
   ]
  },
  {
   "cell_type": "markdown",
   "metadata": {},
   "source": [
    "----------------------------------------------------------------------------------------------------------------"
   ]
  },
  {
   "cell_type": "code",
   "execution_count": null,
   "metadata": {},
   "outputs": [],
   "source": []
  },
  {
   "cell_type": "markdown",
   "metadata": {},
   "source": [
    "----------------------------------------------------------------------------------------------------------------"
   ]
  },
  {
   "cell_type": "markdown",
   "metadata": {},
   "source": [
    "### **Step 8.4** : Processamento de features categóricas com codificadores (encoding)"
   ]
  },
  {
   "cell_type": "markdown",
   "metadata": {},
   "source": [
    "----------------------------------------------------------------------------------------------------------------"
   ]
  },
  {
   "cell_type": "code",
   "execution_count": null,
   "metadata": {},
   "outputs": [],
   "source": []
  },
  {
   "cell_type": "markdown",
   "metadata": {},
   "source": [
    "----------------------------------------------------------------------------------------------------------------"
   ]
  },
  {
   "cell_type": "markdown",
   "metadata": {},
   "source": [
    "### **Step 8.5**: Normalizações e padronizações (feature scaling) "
   ]
  },
  {
   "cell_type": "markdown",
   "metadata": {},
   "source": [
    "----------------------------------------------------------------------------------------------------------------"
   ]
  },
  {
   "cell_type": "code",
   "execution_count": null,
   "metadata": {},
   "outputs": [],
   "source": []
  },
  {
   "cell_type": "markdown",
   "metadata": {},
   "source": [
    "----------------------------------------------------------------------------------------------------------------"
   ]
  },
  {
   "cell_type": "markdown",
   "metadata": {},
   "source": [
    "### **Step 9**: Custom Transformers (Transformações Customizadas)"
   ]
  },
  {
   "cell_type": "markdown",
   "metadata": {},
   "source": [
    "----------------------------------------------------------------------------------------------------------------"
   ]
  },
  {
   "cell_type": "code",
   "execution_count": null,
   "metadata": {},
   "outputs": [],
   "source": []
  },
  {
   "cell_type": "markdown",
   "metadata": {},
   "source": [
    "----------------------------------------------------------------------------------------------------------------"
   ]
  },
  {
   "cell_type": "markdown",
   "metadata": {},
   "source": [
    "### **Step 10**: Pipelines de Transformação (Transformation Pipelines)"
   ]
  },
  {
   "cell_type": "markdown",
   "metadata": {},
   "source": [
    "----------------------------------------------------------------------------------------------------------------"
   ]
  },
  {
   "cell_type": "code",
   "execution_count": null,
   "metadata": {},
   "outputs": [],
   "source": []
  },
  {
   "cell_type": "markdown",
   "metadata": {},
   "source": [
    "----------------------------------------------------------------------------------------------------------------"
   ]
  },
  {
   "cell_type": "markdown",
   "metadata": {},
   "source": [
    "### **Step 10**: Machine Learning - Model Building (feature_utils.py + custom_model_random_forest.py)"
   ]
  },
  {
   "cell_type": "markdown",
   "metadata": {},
   "source": [
    "----------------------------------------------------------------------------------------------------------------"
   ]
  },
  {
   "cell_type": "code",
   "execution_count": null,
   "metadata": {},
   "outputs": [],
   "source": []
  },
  {
   "cell_type": "markdown",
   "metadata": {},
   "source": [
    "----------------------------------------------------------------------------------------------------------------"
   ]
  },
  {
   "cell_type": "markdown",
   "metadata": {},
   "source": [
    "### **Step 11**: Machine Learning - Model Testing"
   ]
  },
  {
   "cell_type": "markdown",
   "metadata": {},
   "source": [
    "----------------------------------------------------------------------------------------------------------------"
   ]
  },
  {
   "cell_type": "code",
   "execution_count": null,
   "metadata": {},
   "outputs": [],
   "source": []
  },
  {
   "cell_type": "markdown",
   "metadata": {},
   "source": [
    "----------------------------------------------------------------------------------------------------------------"
   ]
  },
  {
   "cell_type": "markdown",
   "metadata": {},
   "source": [
    "### **Step 12**: Salvando o Modelo de Machine Learning (Model Saving)"
   ]
  },
  {
   "cell_type": "markdown",
   "metadata": {},
   "source": [
    "----------------------------------------------------------------------------------------------------------------"
   ]
  },
  {
   "cell_type": "code",
   "execution_count": null,
   "metadata": {},
   "outputs": [],
   "source": []
  }
 ],
 "metadata": {
  "kernelspec": {
   "display_name": "Python 3",
   "language": "python",
   "name": "python3"
  },
  "language_info": {
   "name": "python",
   "version": "3.12.5"
  }
 },
 "nbformat": 4,
 "nbformat_minor": 2
}
